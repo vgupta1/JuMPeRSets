{
 "metadata": {
  "language": "Julia",
  "name": ""
 },
 "nbformat": 3,
 "nbformat_minor": 0,
 "worksheets": [
  {
   "cells": [
    {
     "cell_type": "code",
     "collapsed": false,
     "input": [
      "include(\"../ddusets.jl\")\n",
      "using DDUSets, JuMPeR"
     ],
     "language": "python",
     "metadata": {},
     "outputs": [
      {
       "output_type": "stream",
       "stream": "stderr",
       "text": [
        "Warning: could not import Base.foldl into NumericExtensions\n",
        "Warning: could not import Base.foldr into NumericExtensions\n",
        "Warning: could not import Base.sum! into NumericExtensions\n",
        "Warning: could not import Base.maximum! into NumericExtensions\n",
        "Warning: could not import Base.minimum! into NumericExtensions\n"
       ]
      }
     ],
     "prompt_number": 1
    },
    {
     "cell_type": "code",
     "collapsed": false,
     "input": [
      "srand(8675309)\n",
      "data = rand(100, 3)\n",
      "w = UCSOracle(data, .1, .1, .1)\n",
      "w.Gamma1, w.Gamma2"
     ],
     "language": "python",
     "metadata": {},
     "outputs": [
      {
       "metadata": {},
       "output_type": "pyout",
       "prompt_number": 2,
       "text": [
        "(0.07314490163917389,0.03393232668027003)"
       ]
      },
      {
       "output_type": "stream",
       "stream": "stderr",
       "text": [
        "Warning: Possible conflict in library symbol dgesdd_\n",
        "Warning: Possible conflict in library symbol dpotrf_\n"
       ]
      }
     ],
     "prompt_number": 2
    },
    {
     "cell_type": "code",
     "collapsed": false,
     "input": [
      "m = RobustModel()\n",
      "#@defUnc(m, 0 <= us[i=1:3] <= 1)\n",
      "@defUnc(m, us[1:3])\n",
      "setDefaultOracle!(m, w)\n",
      "@defVar(m, xs[1:3])\n",
      "@addConstraint(m, xs[1] == 1)\n",
      "@addConstraint(m, xs[2] == 1)\n",
      "@addConstraint(m, xs[3] == 1)\n",
      "@defVar(m, t)\n",
      "addConstraint(m, sum([us[i] * xs[i] for i =1:3]) <= t)\n",
      "@setObjective(m, Min, t)\n",
      "\n",
      "solveRobust(m, prefer_cuts=true, report=false, active_cuts=false)\t"
     ],
     "language": "python",
     "metadata": {},
     "outputs": [
      {
       "metadata": {},
       "output_type": "pyout",
       "prompt_number": 9,
       "text": [
        ":Optimal"
       ]
      },
      {
       "output_type": "stream",
       "stream": "stdout",
       "text": [
        "Optimize a model with 3 rows, 9 columns and 12 nonzeros\n",
        "Model has 2 quadratic constraints\n",
        "Presolve time: 0.00s\n",
        "Presolved: 5 rows, 11 columns, 14 nonzeros\n",
        "Presolved model has 2 second-order cone constraints\n",
        "Ordering time: 0.00s\n",
        "\n",
        "Barrier statistics:\n",
        " AA' NZ     : 9.000e+00\n",
        " Factor NZ  : 1.500e+01\n",
        " Factor Ops : 5.500e+01 (less than 1 second per iteration)\n",
        " Threads    : 1\n",
        "\n",
        "                  Objective                Residual\n",
        "Iter       Primal          Dual         Primal    Dual     Compl     Time\n",
        "   0   2.24533598e+00  4.87701175e+00  2.51e-01 1.13e+00  5.02e-01     0s\n",
        "   1   2.00184990e+00  3.03985880e+00  2.38e-02 2.45e-01  1.06e-01     0s\n",
        "   2   2.90756516e+00  3.14744047e+00  3.58e-06 3.85e-03  1.55e-02     0s\n",
        "   3   2.95211995e+00  2.97714961e+00  1.38e-07 3.75e-06  1.56e-03     0s\n",
        "   4   2.95445186e+00  2.95611955e+00  8.63e-11 1.69e-07  1.04e-04     0s\n",
        "   5   2.95522017e+00  2.95530034e+00  5.88e-12 4.16e-09  5.01e-06     0s\n",
        "   6   2.95528210e+00  2.95528969e+00  3.18e-11 1.29e-09  4.75e-07     0s\n",
        "   7   2.95528365e+00  2.95528851e+00  1.22e-11 4.15e-10  3.04e-07     0s\n",
        "   8   2.95528621e+00  2.95528829e+00  2.09e-10 3.50e-10  1.30e-07     0s\n",
        "\n",
        "Barrier solved model in 8 iterations and 0.00 seconds\n",
        "Optimal objective 2.95528621e+00\n",
        "\n",
        "Warning: to get QCP duals, please set parameter QCPDual to 1\n",
        "\n",
        "Optimize a model with 3 rows, 9 columns and 12 nonzeros\n",
        "Model has 2 quadratic constraints\n",
        "Presolve time: 0.00s\n",
        "Presolved: 5 rows, 11 columns, 14 nonzeros\n",
        "Presolved model has 2 second-order cone constraints\n",
        "Ordering time: 0.00s\n",
        "\n",
        "Barrier statistics:\n",
        " AA' NZ     : 9.000e+00\n",
        " Factor NZ  : 1.500e+01\n",
        " Factor Ops : 5.500e+01 (less than 1 second per iteration)\n",
        " Threads    : 1\n",
        "\n",
        "                  Objective                Residual\n",
        "Iter       Primal          Dual         Primal    Dual     Compl     Time\n",
        "   0   2.24533598e+00  4.87701175e+00  2.51e-01 1.13e+00  5.02e-01     0s\n",
        "   1   2.00184990e+00  3.03985880e+00  2.38e-02 2.45e-01  1.06e-01     0s\n",
        "   2   2.90756516e+00  3.14744047e+00  3.58e-06 3.85e-03  1.55e-02     0s\n",
        "   3   2.95211995e+00  2.97714961e+00  1.38e-07 3.75e-06  1.56e-03     0s\n",
        "   4   2.95445186e+00  2.95611955e+00  8.63e-11 1.69e-07  1.04e-04     0s\n",
        "   5   2.95522017e+00  2.95530034e+00  5.88e-12 4.16e-09  5.01e-06     0s\n",
        "   6   2.95528210e+00  2.95528969e+00  3.18e-11 1.29e-09  4.75e-07     0s\n",
        "   7   2.95528365e+00  2.95528851e+00  1.22e-11 4.15e-10  3.04e-07     0s\n",
        "   8   2.95528621e+00  2.95528829e+00  2.09e-10 3.50e-10  1.30e-07     0s\n",
        "\n",
        "Barrier solved model in 8 iterations and 0.00 seconds\n",
        "Optimal objective 2.95528621e+00\n",
        "\n",
        "Warning: to get QCP duals, please set parameter QCPDual to 1\n",
        "\n"
       ]
      }
     ],
     "prompt_number": 9
    },
    {
     "cell_type": "code",
     "collapsed": false,
     "input": [
      "println( getObjectiveValue(m) )"
     ],
     "language": "python",
     "metadata": {},
     "outputs": [
      {
       "output_type": "stream",
       "stream": "stdout",
       "text": [
        "2."
       ]
      },
      {
       "output_type": "stream",
       "stream": "stdout",
       "text": [
        "9552862101243953\n"
       ]
      }
     ],
     "prompt_number": 5
    },
    {
     "cell_type": "code",
     "collapsed": false,
     "input": [
      "println( getObjectiveValue(m) )"
     ],
     "language": "python",
     "metadata": {},
     "outputs": [
      {
       "output_type": "stream",
       "stream": "stdout",
       "text": [
        "2."
       ]
      },
      {
       "output_type": "stream",
       "stream": "stdout",
       "text": [
        "9552862101243953\n"
       ]
      }
     ],
     "prompt_number": 8
    },
    {
     "cell_type": "code",
     "collapsed": false,
     "input": [],
     "language": "python",
     "metadata": {},
     "outputs": []
    }
   ],
   "metadata": {}
  }
 ]
}