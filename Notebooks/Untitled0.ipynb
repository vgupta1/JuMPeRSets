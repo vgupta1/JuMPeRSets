{
 "metadata": {
  "language": "Julia",
  "name": ""
 },
 "nbformat": 3,
 "nbformat_minor": 0,
 "worksheets": [
  {
   "cells": [
    {
     "cell_type": "code",
     "collapsed": false,
     "input": [
      "using PyPlot, Distributions\n",
      "include(\"FBOracle.jl\")"
     ],
     "language": "python",
     "metadata": {},
     "outputs": [
      {
       "output_type": "stream",
       "stream": "stdout",
       "text": [
        "Loading help data...\n"
       ]
      },
      {
       "output_type": "stream",
       "stream": "stderr",
       "text": [
        "Warning: Possible conflict in library symbol dtrtri_\n",
        "Warning: Possible conflict in library symbol dgetri_\n",
        "Warning: Possible conflict in library symbol dgetrf_\n",
        "Warning: could not import Base.foldl into NumericExtensions\n",
        "Warning: could not import Base.foldr into NumericExtensions\n",
        "Warning: could not import Base.sum! into NumericExtensions\n",
        "Warning: could not import Base.maximum! into NumericExtensions\n",
        "Warning: could not import Base.minimum! into NumericExtensions\n"
       ]
      },
      {
       "metadata": {},
       "output_type": "pyout",
       "prompt_number": 1,
       "text": [
        "generateReform (generic function with 4 methods)"
       ]
      }
     ],
     "prompt_number": 1
    },
    {
     "cell_type": "code",
     "collapsed": false,
     "input": [
      "#Extra benefit of massaging the epsilons?\n",
      "mu = -.2\n",
      "sigbar = 4\n",
      "N = 700\n",
      "\n",
      "#relaxation time\n",
      "println(\"Relaxation Time\\t\", log(1/.1)*sigbar/2/mu^2)\n",
      "\n",
      "feps(j) = .1 / N\n",
      "f(j)= mu * j + sqrt(2 * log(1/feps(j)) * sigbar) * sqrt(j)\n",
      "ys = [f(j) for j = 1:N]\n",
      "\n",
      "feps_(j) = sqrt(j)\n",
      "scaling =  sum([feps_(j) for j = 1:N])\n",
      "feps(j) = feps_(j) / scaling * .1\n",
      "\n",
      "f(j)= mu * j + sqrt(2 * log(1/feps(j)) * sigbar) * sqrt(j)\n",
      "ysl = [f(j) for j = 1:N]\n",
      "\n",
      "plt.figure(num=1, figsize = (6, 3))\n",
      "plot(1:N, ys, \"b-\")\n",
      "plot(1:N, ysl, \"r--\")"
     ],
     "language": "python",
     "metadata": {},
     "outputs": [
      {
       "output_type": "stream",
       "stream": "stdout",
       "text": [
        "Relaxation Time\t115"
       ]
      },
      {
       "output_type": "stream",
       "stream": "stdout",
       "text": [
        ".12925464970228\n"
       ]
      },
      {
       "metadata": {},
       "output_type": "display_data",
       "png": "[encoded data removed]",
       "text": [
        "Figure(PyObject <matplotlib.figure.Figure object at 0x10d12d450>)"
       ]
      },
      {
       "metadata": {},
       "output_type": "pyout",
       "prompt_number": 2,
       "text": [
        "1-element Array{Any,1}:\n",
        " PyObject <matplotlib.lines.Line2D object at 0x101527f50>"
       ]
      }
     ],
     "prompt_number": 2
    },
    {
     "cell_type": "code",
     "collapsed": false,
     "input": [
      "function kingmanbound(lam, mu, sigT, sigx)\n",
      "    rho = lam/mu\n",
      "    rho/(1-rho) * .5 * 1/mu * (sigT^2 * lam^2 + sigx^2 * mu^2)\n",
      "end\n",
      "\n",
      "king2(lam, mu, sigT, sigX) = (rho = lam/mu; lam/2/(1-rho) * (sigT^2 + sigX^2) )\n",
      "\n",
      "FBBound(mbt, mfx, sigbt, sigfx, eps) = log(1/eps) * (sigfx^2 + sigbt^2) / 2 / (mbt-mfx)\n",
      "\n",
      "UCSBound(mbt, mfx, sigt, sigx, eps) = (1/eps -1) * (sigt^2 + sigx^2) / 4 / (mbt - mfx)"
     ],
     "language": "python",
     "metadata": {},
     "outputs": [
      {
       "metadata": {},
       "output_type": "pyout",
       "prompt_number": 2,
       "text": [
        "UCSBound (generic function with 1 method)"
       ]
      }
     ],
     "prompt_number": 2
    },
    {
     "cell_type": "code",
     "collapsed": false,
     "input": [
      "#pseudo exact analysis\n",
      "lam  = .99\n",
      "mu   = 1\n",
      "sigT = sigX = sqrt(5)\n",
      "kbound= kingmanbound(lam, mu, sigT, sigX)\n",
      "kbound2= king2(lam, mu, sigT, sigX)\n",
      "fbbound = FBBound(1/lam, 1/mu, sigT, sigX, .5)\n",
      "csbound = UCSBound(1/lam, 1/mu, sigT, sigX, .5)\n",
      "println(\"Kingman\\t\", kbound)\n",
      "println(\"Kingman2\\t\", kbound2)\n",
      "println(\"FB \\t\", fbbound)\n",
      "println(\"Cs \\t\", csbound)"
     ],
     "language": "python",
     "metadata": {},
     "outputs": [
      {
       "output_type": "stream",
       "stream": "stdout",
       "text": [
        "Kingman\t490"
       ]
      },
      {
       "output_type": "stream",
       "stream": "stdout",
       "text": [
        ".07474999999965\n",
        "Kingman2\t494.99999999999966\n",
        "FB \t343.1078543771708\n",
        "Cs \t247.49999999999844\n"
       ]
      }
     ],
     "prompt_number": 6
    },
    {
     "cell_type": "code",
     "collapsed": false,
     "input": [
      "# Introduce some error into the sigs\n",
      "println( uncSetBound(1/lam, 1/mu, sigT, sigX, .5) )\n",
      "println( uncSetBound(.99/lam, 1.01/mu, sigT, sigX, .5) )"
     ],
     "language": "python",
     "metadata": {},
     "outputs": [
      {
       "output_type": "stream",
       "stream": "stdout",
       "text": [
        "26."
       ]
      },
      {
       "output_type": "stream",
       "stream": "stdout",
       "text": [
        "339592861277954\n",
        "43.179660428324304\n"
       ]
      }
     ],
     "prompt_number": 107
    },
    {
     "cell_type": "code",
     "collapsed": false,
     "input": [],
     "language": "python",
     "metadata": {},
     "outputs": [],
     "prompt_number": 5
    },
    {
     "cell_type": "code",
     "collapsed": false,
     "input": [
      "#Calc sigfx for the UFB boun d\n",
      "x_data = rand(xdist, 1e4)\n",
      "sigfx, dummy = calcSigsBoot(x_data, .1, 1e4)\n",
      "println(sigfx)\n",
      "println(calcSigsBoot(x_data, .9, 1e4)[1])\n",
      "\n"
     ],
     "language": "python",
     "metadata": {},
     "outputs": [
      {
       "output_type": "stream",
       "stream": "stdout",
       "text": [
        "3."
       ]
      },
      {
       "output_type": "stream",
       "stream": "stdout",
       "text": [
        "779153565570053\n",
        "3"
       ]
      },
      {
       "output_type": "stream",
       "stream": "stdout",
       "text": [
        ".5469471346538137\n"
       ]
      }
     ],
     "prompt_number": 32
    },
    {
     "cell_type": "code",
     "collapsed": false,
     "input": [
      "#Calc sigbt for the UFB Bound\n",
      "t_data = rand(Tdist, int(1e4))\n",
      "dummy, sigbt = calcSigsBoot(t_data, .1, 1e4)\n",
      "println(sigbt)\n",
      "println(calcSigsBoot(t_data, .9, 1e4)[2])\n"
     ],
     "language": "python",
     "metadata": {},
     "outputs": [
      {
       "output_type": "stream",
       "stream": "stdout",
       "text": [
        "1."
       ]
      },
      {
       "output_type": "stream",
       "stream": "stdout",
       "text": [
        "1540862521168613\n",
        "1"
       ]
      },
      {
       "output_type": "stream",
       "stream": "stdout",
       "text": [
        ".127760182652299\n"
       ]
      }
     ],
     "prompt_number": 35
    },
    {
     "cell_type": "code",
     "collapsed": false,
     "input": [
      "#Compares two methods of estimating an upper-bound on standard dev at level 1-eps\n",
      "eps_ = .1 ; N = int(1e2)\n",
      "data = rand(xdist, N)\n",
      "lower, dummy = calcMeansT(data, eps_/2)\n",
      "dummy, upper = calcMeansT(data .^2, eps_/2)\n",
      "std1 = sqrt(upper - lower^2)\n",
      "\n",
      "println(\"True Std:\\t\", std(xdist))\n",
      "println(\"Std1: \\t $std1\")\n",
      "\n",
      "std2 = boot(data, std, [.1, .9], 1e6)\n",
      "println(\"Std2: \\t $std2\")\n",
      "\n"
     ],
     "language": "python",
     "metadata": {},
     "outputs": [
      {
       "output_type": "stream",
       "stream": "stdout",
       "text": [
        "True Std:\t1"
       ]
      },
      {
       "output_type": "stream",
       "stream": "stdout",
       "text": [
        ".0\n",
        "Std1: \t 1.6586601579999027\n",
        "Std2: \t .7909763934589134\n",
        "1.318810086885806\n"
       ]
      },
      {
       "output_type": "stream",
       "stream": "stdout",
       "text": [
        "\n"
       ]
      }
     ],
     "prompt_number": 36
    },
    {
     "cell_type": "code",
     "collapsed": false,
     "input": [
      "# compare a simple\n",
      "\n",
      "eps_grid = 0:.005:1\n",
      "kappa_eps = (1/eps_grid -1)/4\n",
      "log_eps = log(1/eps_grid)/2\n",
      "\n",
      "plot(eps_grid, kappa_eps, \"b--\")\n",
      "# plot(eps_grid, log_eps, \"r--\")\n",
      "\n",
      "# plot(eps_grid, kappa_eps ./ log_eps, \"b--\")\n",
      "\n"
     ],
     "language": "python",
     "metadata": {},
     "outputs": [
      {
       "metadata": {},
       "output_type": "display_data",
       "png": "[encoded data removed]",
       "text": [
        "Figure(PyObject <matplotlib.figure.Figure object at 0x1057555d0>)"
       ]
      },
      {
       "metadata": {},
       "output_type": "pyout",
       "prompt_number": 34,
       "text": [
        "1-element Array{Any,1}:\n",
        " PyObject <matplotlib.lines.Line2D object at 0x10aedb590>"
       ]
      }
     ],
     "prompt_number": 34
    },
    {
     "cell_type": "code",
     "collapsed": false,
     "input": [],
     "language": "python",
     "metadata": {},
     "outputs": []
    },
    {
     "cell_type": "code",
     "collapsed": false,
     "input": [
      "#Distributions\n",
      "xdist = Exponential(1)\n",
      "Tdist = Exponential(1.1)\n",
      "\n",
      "println(\"Exact utilization\\t\", mean(xdist)/mean(Tdist) )\n",
      "\n",
      "println(\"King1\\t\", kingmanbound(1/mean(Tdist), 1/mean(xdist), std(Tdist), std(xdist)))\n",
      "println(\"King2 \\t\", king2(1/mean(Tdist), 1/mean(xdist), std(Tdist), std(xdist)))\n",
      "println(\"Unc Ish \\t\", uncSetBound(mean(Tdist), mean(xdist), std(Tdist), std(xdist), .5))\n",
      "println(\"Unc Better \\t\", uncSetBound(mean(Tdist), mean(xdist), sigbt, sigfx, .5))\n",
      "\n",
      "##generate\n",
      "\n",
      "\n"
     ],
     "language": "python",
     "metadata": {},
     "outputs": [
      {
       "output_type": "stream",
       "stream": "stdout",
       "text": [
        "Exact utilization\t0."
       ]
      },
      {
       "output_type": "stream",
       "stream": "stdout",
       "text": [
        "9090909090909091\n",
        "King1\t9.999999999999996\n",
        "King2 \t11.049999999999995\n"
       ]
      },
      {
       "ename": "LoadError",
       "evalue": "uncSetBound not defined\nat In[10]:9",
       "output_type": "pyerr",
       "traceback": [
        "uncSetBound not defined\nat In[10]:9"
       ]
      }
     ],
     "prompt_number": 10
    },
    {
     "cell_type": "code",
     "collapsed": false,
     "input": [
      "println(std(xdist), \"  \",  sigfx)\n",
      "println(std(Tdist), \"  \",  sigbt)"
     ],
     "language": "python",
     "metadata": {},
     "outputs": [
      {
       "output_type": "stream",
       "stream": "stdout",
       "text": [
        "1.0"
       ]
      },
      {
       "output_type": "stream",
       "stream": "stdout",
       "text": [
        "  3.779153565570053\n",
        "1.1  1.1540862521168613\n"
       ]
      }
     ],
     "prompt_number": 39
    },
    {
     "cell_type": "code",
     "collapsed": false,
     "input": [
      "10.^linspace(1, 4, 4)"
     ],
     "language": "python",
     "metadata": {},
     "outputs": [
      {
       "metadata": {},
       "output_type": "pyout",
       "prompt_number": 39,
       "text": [
        "4-element Array{Float64,1}:\n",
        "    10.0\n",
        "   100.0\n",
        "  1000.0\n",
        " 10000.0"
       ]
      }
     ],
     "prompt_number": 39
    },
    {
     "cell_type": "code",
     "collapsed": false,
     "input": [
      "include(\"queueing.jl\")"
     ],
     "language": "python",
     "metadata": {},
     "outputs": [
      {
       "ename": "LoadError",
       "evalue": "invalid redefinition of constant FBOracle\nat /Users/VGupta/Documents/Research/DataDriven Uncertainty SEts/JuMPeRSets/FBOracle.jl:128\nat /Users/VGupta/Documents/Research/DataDriven Uncertainty SEts/JuMPeRSets/queueing.jl:6\nat In[2]:1",
       "output_type": "pyerr",
       "traceback": [
        "invalid redefinition of constant FBOracle\nat /Users/VGupta/Documents/Research/DataDriven Uncertainty SEts/JuMPeRSets/FBOracle.jl:128\nat /Users/VGupta/Documents/Research/DataDriven Uncertainty SEts/JuMPeRSets/queueing.jl:6\nat In[2]:1",
        " in include at boot.jl:238",
        " in include_from_node1 at loading.jl:114",
        " in include at boot.jl:238",
        " in include_from_node1 at loading.jl:114"
       ]
      }
     ],
     "prompt_number": 2
    },
    {
     "cell_type": "code",
     "collapsed": false,
     "input": [],
     "language": "python",
     "metadata": {},
     "outputs": []
    }
   ],
   "metadata": {}
  }
 ]
}