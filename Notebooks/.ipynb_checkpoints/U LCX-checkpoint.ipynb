{
 "metadata": {
  "language": "Julia",
  "name": ""
 },
 "nbformat": 3,
 "nbformat_minor": 0,
 "worksheets": [
  {
   "cells": [
    {
     "cell_type": "code",
     "collapsed": false,
     "input": [
      "include(\"../Tests/LCXTests.jl\")"
     ],
     "language": "python",
     "metadata": {},
     "outputs": [
      {
       "output_type": "stream",
       "stream": "stderr",
       "text": [
        "Warning: replacing module LCXTest\n"
       ]
      }
     ],
     "prompt_number": 9
    },
    {
     "cell_type": "code",
     "collapsed": false,
     "input": [
      "#gen some a, b's on the sphere\n",
      "numSamples = 1000\n",
      "ab_samples = randn(numSamples, 3)\n",
      "for ix = 1:numSamples\n",
      "    ab_samples[ix, :] /= norm(ab_samples[ix, :])\n",
      "end"
     ],
     "language": "python",
     "metadata": {},
     "outputs": [],
     "prompt_number": 121
    },
    {
     "cell_type": "code",
     "collapsed": false,
     "input": [
      "data = [randn(10, 1) rand(10, 1)];"
     ],
     "language": "python",
     "metadata": {},
     "outputs": [],
     "prompt_number": 19
    },
    {
     "cell_type": "code",
     "collapsed": false,
     "input": [
      "function longway(zetas, zetahats)\n",
      "    Gamma = 0.\n",
      "    for b in zetas\n",
      "        emp = max(0, zetahats - b)\n",
      "        act = max(0, zetas -b)\n",
      "        Gamma = max(Gamma, mean(act) - mean(emp))\n",
      "    end\n",
      "    Gamma\n",
      "end\n",
      "\n",
      "#Returns indx of last instance of val, assumes sorted\n",
      "#0 if not a member\n",
      "function findlast_sort(val::Float64, \n",
      "                    vector::Vector{Float64}; \n",
      "                    TOL=1e-10, start=1)\n",
      "    i = 1::Int64\n",
      "    for i = int(start):length(vector)\n",
      "        if abs(val - vector[i]) > TOL\n",
      "            break\n",
      "        end\n",
      "    end\n",
      "    i-1\n",
      "end\n",
      "\n",
      "function singlepass(zetas::Vector{Float64}, zetahats::Vector{Float64})\n",
      "    sort!(zetas)  #This should be done externally\n",
      "    sort!(zetahats)\n",
      "\n",
      "    vstar = mean(zetas) - zetas[1]  #externally\n",
      "    vb    = mean(zetahats) - zetas[1]\n",
      "\n",
      "    Gamma::Float64 = vstar - vb\n",
      "    const N::Int64 = length(zetas)\n",
      "    pbar::Float64  = 1.0 \n",
      "    hat_indx = 1::Int64\n",
      "    hat_indx_ = 0::Int64\n",
      "    \n",
      "    for k = 2:length(zetas)\n",
      "        vstar += (zetas[k-1] - zetas[k]) * (N-k+1)/N\n",
      "        hat_indx = findlast_sort(zetas[k-1], zetahats, \n",
      "                                start=hat_indx_+1)\n",
      "        pbar -=  (hat_indx-hat_indx_)/N\n",
      "        hat_indx_ = hat_indx\n",
      "        vb  += (zetas[k-1] - zetas[k]) * pbar\n",
      "        println(\" k $k \\t Gamma $(vstar -vb) \\t pbar $pbar\")\n",
      "        Gamma = max(Gamma, vstar - vb)\n",
      "    end\n",
      "    Gamma\n",
      "end"
     ],
     "language": "python",
     "metadata": {},
     "outputs": [
      {
       "metadata": {},
       "output_type": "pyout",
       "prompt_number": 68,
       "text": [
        "singlepass (generic function with 2 methods)"
       ]
      }
     ],
     "prompt_number": 68
    },
    {
     "cell_type": "code",
     "collapsed": false,
     "input": [
      "[sort!(zetas) sort!(zetahats)];\n",
      "[zetas zetahats]\n"
     ],
     "language": "python",
     "metadata": {},
     "outputs": [
      {
       "metadata": {},
       "output_type": "pyout",
       "prompt_number": 70,
       "text": [
        "10x2 Array{Float64,2}:\n",
        " -0.494311   -0.494311\n",
        " -0.297329   -0.297329\n",
        "  0.0659789   0.098223\n",
        "  0.098223    0.098223\n",
        "  0.177784    0.177784\n",
        "  0.434989    0.434989\n",
        "  0.556095    0.434989\n",
        "  0.56347     0.56347 \n",
        "  0.735249    0.735249\n",
        "  1.22044     1.22044 "
       ]
      }
     ],
     "prompt_number": 70
    },
    {
     "cell_type": "code",
     "collapsed": false,
     "input": [
      "zetas = randn(10);\n",
      "zetahats = zetas[rand(1:10, 10)];\n",
      "println(\"Longway\\t\", longway(zetas, zetahats))\n",
      "[zetas zetahats]"
     ],
     "language": "python",
     "metadata": {},
     "outputs": [
      {
       "output_type": "stream",
       "stream": "stdout",
       "text": [
        "Longway\t0."
       ]
      },
      {
       "output_type": "stream",
       "stream": "stdout",
       "text": [
        "01211062718984085\n"
       ]
      },
      {
       "metadata": {},
       "output_type": "pyout",
       "prompt_number": 58,
       "text": [
        "10x2 Array{Float64,2}:\n",
        "  0.0659789   0.56347 \n",
        "  0.098223    0.098223\n",
        "  0.177784    0.434989\n",
        "  0.556095    1.22044 \n",
        "  1.22044     0.177784\n",
        "  0.56347    -0.297329\n",
        " -0.297329    0.434989\n",
        " -0.494311    0.098223\n",
        "  0.434989    0.735249\n",
        "  0.735249   -0.494311"
       ]
      }
     ],
     "prompt_number": 58
    },
    {
     "cell_type": "code",
     "collapsed": false,
     "input": [
      "singlepass(zetas, zetahats)"
     ],
     "language": "python",
     "metadata": {},
     "outputs": [
      {
       "output_type": "stream",
       "stream": "stdout",
       "text": [
        " k 2 \t Gamma 0.008886221621986268 \t pbar 0.9\n"
       ]
      },
      {
       "output_type": "stream",
       "stream": "stdout",
       "text": [
        " k 3 \t Gamma -0.027444580333424617 \t pbar 0.7\n",
        " k 4 \t Gamma -0.03389339146913367 \t pbar 0.49999999999999994\n",
        " k 5 \t Gamma -0.07367392093664621 \t pbar 0.09999999999999992\n",
        " k 6 \t Gamma -0.30515844982353485 \t pbar -0.4000000000000001\n",
        " k 7 \t Gamma -0.4868178576711474 \t pbar -1.1\n",
        " k 8 \t Gamma -0.5023039423528332 \t pbar -1.8\n",
        " k 9 \t Gamma -0.9832850133738043 \t pbar -2.6\n",
        " k 10 \t Gamma -2.7299897680440255 \t pbar -3.5\n"
       ]
      },
      {
       "metadata": {},
       "output_type": "pyout",
       "prompt_number": 69,
       "text": [
        "0.008886221621986268"
       ]
      }
     ],
     "prompt_number": 69
    },
    {
     "cell_type": "code",
     "collapsed": false,
     "input": [
      "[zetas zetahats]"
     ],
     "language": "python",
     "metadata": {},
     "outputs": [
      {
       "metadata": {},
       "output_type": "pyout",
       "prompt_number": 31,
       "text": [
        "10x2 Array{Float64,2}:\n",
        "  0.288499    0.485662 \n",
        "  0.460531   -2.53786  \n",
        "  0.0791611   1.01021  \n",
        "  0.485662    0.29845  \n",
        "  1.01021     0.29845  \n",
        " -1.96713     0.485662 \n",
        "  0.799214   -0.495268 \n",
        " -2.53786     0.0791611\n",
        " -0.495268    1.01021  \n",
        "  0.29845     0.0791611"
       ]
      }
     ],
     "prompt_number": 31
    },
    {
     "cell_type": "code",
     "collapsed": false,
     "input": [
      "LCXTest.calc_ab_thresh(data, .1, int(1e2), int(1e2))"
     ],
     "language": "python",
     "metadata": {},
     "outputs": [
      {
       "metadata": {},
       "output_type": "pyout",
       "prompt_number": 10,
       "text": [
        "0.05541848190745577"
       ]
      }
     ],
     "prompt_number": 10
    },
    {
     "cell_type": "code",
     "collapsed": false,
     "input": [
      "Gamma = 1e-10\n",
      "eps_ = .1\n",
      "xs = [1, 1]\n",
      "obj, us, vs, z = LCXTest.suppFcn2(xs, data, Gamma, eps_)"
     ],
     "language": "python",
     "metadata": {},
     "outputs": [
      {
       "ename": "LoadError",
       "evalue": "GurobiError(10006,\"Problem adding constraints\")\nat In[13]:4",
       "output_type": "pyerr",
       "traceback": [
        "GurobiError(10006,\"Problem adding constraints\")\nat In[13]:4",
        " in add_constr! at /Users/VGupta/.julia/v0.2/Gurobi/src/grb_constrs.jl:19",
        " in addconstr! at /Users/VGupta/.julia/v0.2/Gurobi/src/GurobiSolverInterface.jl:194",
        " in addConstraint at /Users/VGupta/.julia/v0.2/JuMP/src/JuMP.jl:385",
        " in suppFcn2 at /Users/VGupta/Documents/Research/DataDriven Uncertainty SEts/JuMPeRSets/Tests/LCXTests.jl:178"
       ]
      }
     ],
     "prompt_number": 13
    },
    {
     "cell_type": "code",
     "collapsed": false,
     "input": [
      "#Q:  Is bstar = a data pt?\n",
      "obj, astar, bstar = LCXTest.separate(us[:], vs[:], z, data)\n",
      "indx = indmin(abs(data * astar[:] - bstar))\n",
      "println(\"astar \\t\", astar[:]')\n",
      "println(\"bstar \\t\", bstar)\n",
      "\n",
      "println(\"mindiff to data?: \\t\", dot(data[indx, :], astar)-bstar )\n",
      "\n",
      "t = sort(data*astar[:])\n",
      "t = map( x->abs(x-bstar)<=1e-12, t)\n",
      "findin(t, true)\n"
     ],
     "language": "python",
     "metadata": {},
     "outputs": [
      {
       "output_type": "stream",
       "stream": "stdout",
       "text": [
        "astar \t0\t0\n"
       ]
      },
      {
       "output_type": "stream",
       "stream": "stdout",
       "text": [
        "\n",
        "bstar \t-1.0\n",
        "mindiff to data?: \t1.0\n"
       ]
      },
      {
       "metadata": {},
       "output_type": "pyout",
       "prompt_number": 53,
       "text": [
        "0-element Array{Int64,1}"
       ]
      }
     ],
     "prompt_number": 53
    },
    {
     "cell_type": "code",
     "collapsed": false,
     "input": [
      "rand!(zeros(5))"
     ],
     "language": "python",
     "metadata": {},
     "outputs": [
      {
       "metadata": {},
       "output_type": "pyout",
       "prompt_number": 21,
       "text": [
        "5-element Array{Float64,1}:\n",
        " 0.977816 \n",
        " 0.697647 \n",
        " 0.27878  \n",
        " 0.207599 \n",
        " 0.0690927"
       ]
      }
     ],
     "prompt_number": 21
    },
    {
     "cell_type": "code",
     "collapsed": false,
     "input": [
      "methods(rand!)"
     ],
     "language": "python",
     "metadata": {},
     "outputs": [
      {
       "metadata": {},
       "output_type": "pyout",
       "prompt_number": 22,
       "text": [
        "# 28 methods for generic function \"rand!\":\n",
        "rand!(A::Array{Float64,N}) at random.jl:134\n",
        "rand!(r::MersenneTwister,A::Array{Float64,N}) at random.jl:141\n",
        "rand!{T}(A::Array{T,N}) at random.jl:146\n",
        "rand!{T<:Integer}(r::Range1{T<:Integer},A::Array{T<:Integer,N}) at random.jl:190\n",
        "rand!(B::BitArray{N}) at random.jl:201\n",
        "rand!(s::FisherYatesSampler,a::AbstractArray{T,N},x::AbstractArray{T,N}) at /Users/VGupta/.julia/v0.2/StatsBase/src/sampling.jl:30\n",
        "rand!(d::Beta,A::Array{Float64,N}) at /Users/VGupta/.julia/v0.2/Distributions/src/univariate/beta.jl:48\n",
        "rand!(d::Chisq,A::Array{Float64,N}) at /Users/VGupta/.julia/v0.2/Distributions/src/univariate/chisq.jl:45\n",
        "rand!(d::Exponential,A::Array{Float64,N}) at /Users/VGupta/.julia/v0.2/Distributions/src/univariate/exponential.jl:54\n",
        "rand!(d::Gamma,A::Array{Float64,N}) at /Users/VGupta/.julia/v0.2/Distributions/src/univariate/gamma.jl:46\n",
        "rand!(d::InverseGamma,A::Array{Float64,N}) at /Users/VGupta/.julia/v0.2/Distributions/src/univariate/inversegamma.jl:67\n",
        "rand!{T<:FloatingPoint}(cf::NormalCanon,r::Array{T<:FloatingPoint,N}) at /Users/VGupta/.julia/v0.2/Distributions/src/univariate/normalcanon.jl:61\n",
        "rand!(d::Union(Dirichlet,DirichletCanon),x::Array{T,1}) at /Users/VGupta/.julia/v0.2/Distributions/src/multivariate/dirichlet.jl:174\n",
        "rand!(d::Union(Dirichlet,DirichletCanon),X::Array{T,2}) at /Users/VGupta/.julia/v0.2/Distributions/src/multivariate/dirichlet.jl:186\n",
        "rand!{T<:Real}(d::Multinomial,x::Array{T<:Real,1}) at /Users/VGupta/.julia/v0.2/Distributions/src/multivariate/multinomial.jl:163\n",
        "rand!{T<:Real}(d::Multinomial,x::Array{T<:Real,2}) at /Users/VGupta/.julia/v0.2/Distributions/src/multivariate/multinomial.jl:166\n",
        "rand!{T<:Real}(s::MultinomialSampler,x::Array{T<:Real,1}) at /Users/VGupta/.julia/v0.2/Distributions/src/multivariate/multinomial.jl:185\n",
        "rand!(d::GenericMvNormal{Cov<:AbstractPDMat},x::Array{Float64,1}) at /Users/VGupta/.julia/v0.2/Distributions/src/multivariate/mvnormal.jl:122\n",
        "rand!(d::GenericMvNormal{Cov<:AbstractPDMat},x::Array{Float64,2}) at /Users/VGupta/.julia/v0.2/Distributions/src/multivariate/mvnormal.jl:130\n",
        "rand!(d::GenericMvNormalCanon{Prec<:AbstractPDMat},x::Array{Float64,1}) at /Users/VGupta/.julia/v0.2/Distributions/src/multivariate/mvnormalcanon.jl:113\n",
        "rand!(d::GenericMvNormalCanon{Prec<:AbstractPDMat},x::Array{Float64,2}) at /Users/VGupta/.julia/v0.2/Distributions/src/multivariate/mvnormalcanon.jl:121\n",
        "rand!(d::GenericMvTDist{Cov<:AbstractPDMat},x::Array{Float64,1}) at /Users/VGupta/.julia/v0.2/Distributions/src/multivariate/mvtdist.jl:131\n",
        "rand!(d::GenericMvTDist{Cov<:AbstractPDMat},x::Array{Float64,2}) at /Users/VGupta/.julia/v0.2/Distributions/src/multivariate/mvtdist.jl:146\n",
        "rand!(IW::InverseWishart,X::Array{Array{Float64,2},N}) at /Users/VGupta/.julia/v0.2/Distributions/src/matrix/inversewishart.jl:69\n",
        "rand!(d::Distribution{Univariate,S<:ValueSupport},A::Array{T,N}) at /Users/VGupta/.julia/v0.2/Distributions/src/fallbacks.jl:190\n",
        "rand!(d::Distribution{Multivariate,S<:ValueSupport},X::Array{T,2}) at /Users/VGupta/.julia/v0.2/Distributions/src/fallbacks.jl:229\n",
        "rand!(d::Distribution{Matrixvariate,S<:ValueSupport},X::Array{Array{Float64,2},N}) at /Users/VGupta/.julia/v0.2/Distributions/src/fallbacks.jl:239\n",
        "rand!(s::FisherYatesSampler,a::AbstractArray{T,N},x::AbstractArray{T,N}) at /Users/VGupta/.julia/v0.2/Distributions/src/sample.jl:44"
       ]
      }
     ],
     "prompt_number": 22
    },
    {
     "cell_type": "code",
     "collapsed": false,
     "input": [
      "using Distributions"
     ],
     "language": "python",
     "metadata": {},
     "outputs": [],
     "prompt_number": 23
    },
    {
     "cell_type": "code",
     "collapsed": false,
     "input": [
      "rand!(DiscreteUniform(1, 10), zeros(5))"
     ],
     "language": "python",
     "metadata": {},
     "outputs": [
      {
       "metadata": {},
       "output_type": "pyout",
       "prompt_number": 25,
       "text": [
        "5-element Array{Float64,1}:\n",
        " 10.0\n",
        "  9.0\n",
        "  6.0\n",
        "  1.0\n",
        "  8.0"
       ]
      }
     ],
     "prompt_number": 25
    },
    {
     "cell_type": "code",
     "collapsed": false,
     "input": [],
     "language": "python",
     "metadata": {},
     "outputs": []
    }
   ],
   "metadata": {}
  }
 ]
}