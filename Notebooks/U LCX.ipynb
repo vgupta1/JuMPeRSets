{
 "metadata": {
  "language": "Julia",
  "name": ""
 },
 "nbformat": 3,
 "nbformat_minor": 0,
 "worksheets": [
  {
   "cells": [
    {
     "cell_type": "code",
     "collapsed": false,
     "input": [
      "using Distributions, JuMP, Gurobi"
     ],
     "language": "python",
     "metadata": {},
     "outputs": [
      {
       "output_type": "stream",
       "stream": "stderr",
       "text": [
        "Warning: could not import Base.foldl into NumericExtensions\n",
        "Warning: could not import Base.foldr into NumericExtensions\n",
        "Warning: could not import Base.sum! into NumericExtensions\n",
        "Warning: could not import Base.maximum! into NumericExtensions\n",
        "Warning: could not import Base.minimum! into NumericExtensions\n"
       ]
      }
     ],
     "prompt_number": 1
    },
    {
     "cell_type": "code",
     "collapsed": false,
     "input": [
      "#gen some a, b's on the sphere\n",
      "numSamples = 1000\n",
      "ab_samples = randn(numSamples, 3)\n",
      "for ix = 1:numSamples\n",
      "    ab_samples[ix, :] /= norm(ab_samples[ix, :])\n",
      "end\n"
     ],
     "language": "python",
     "metadata": {},
     "outputs": [],
     "prompt_number": 121
    },
    {
     "cell_type": "code",
     "collapsed": false,
     "input": [
      "function rhs(a, b)\n",
      "    norm_a = norm(a)\n",
      "    norm_dist = Normal()\n",
      "    norm_a * pdf(norm_dist, b/norm_a) - b*cdf(norm_dist, -b/norm_a)\n",
      "end\n",
      "\n",
      "varisk(sigma, epsilon) = sigma * quantile(Normal(), 1-epsilon)\n",
      "cvar(sigma, epsilon) = sigma * pdf(Normal(), quantile(Normal(), 1-epsilon)) / epsilon\n",
      "    "
     ],
     "language": "python",
     "metadata": {},
     "outputs": [
      {
       "metadata": {},
       "output_type": "pyout",
       "prompt_number": 86,
       "text": [
        "cvar (generic function with 1 method)"
       ]
      }
     ],
     "prompt_number": 86
    },
    {
     "cell_type": "code",
     "collapsed": false,
     "input": [
      "eps_ = .2\n",
      "function suppFcn(x)\n",
      "    m = Model(solver=GurobiSolver())\n",
      "    @defVar(m, us[1:2])\n",
      "    @defVar(m, vs[1:2])\n",
      "    @defVar(m, 1 <= z <= 1/eps_)\n",
      "    for ix = 1:numSamples\n",
      "        @defVar(m, tu >= 0)\n",
      "        @defVar(m, tv >= 0)\n",
      "        @addConstraint(m, dot(vec(ab_samples[ix, 1:2]), us) - ab_samples[ix, 3] <= tu)\n",
      "        @addConstraint(m, dot(vec(ab_samples[ix, 1:2]), vs) - ab_samples[ix, 3] * (z-1) <= tv)\n",
      "        @addConstraint(m, tu + tv <= rhs(ab_samples[ix, 1:2], ab_samples[ix, 3]) * z)\n",
      "    end\n",
      "   @setObjective(m, Max, dot(x, us))\n",
      "    solve(m)\n",
      "\n",
      "    #figure out whose tight\n",
      "    println(\"z = $(getValue(z))\")\n",
      "    uvals = getValue(us)\n",
      "    vvals = getValue(vs)\n",
      "    zval  = getValue(z)\n",
      "    \n",
      "    tus = max(ab_samples[:, 1:2] * vec(uvals[:]) - ab_samples[:, 3], 0)\n",
      "    tvs = max(ab_samples[:, 1:2] * vec(vvals[:]) - ab_samples[:, 3]*(zval -1), 0)\n",
      "    \n",
      "    lhs = [zval * rhs(ab_samples[ix, 1:2], ab_samples[ix, 3]) for ix = 1:numSamples]\n",
      "    lhs -= (tus + tvs)\n",
      "\n",
      "    for (i, v) in enumerate(lhs)\n",
      "        if v < 1e-10\n",
      "            println(v, \"  \", ab_samples[i, :])\n",
      "        end\n",
      "    end\n",
      "\n",
      "    getObjectiveValue(m), getValue(us)\n",
      "end\n"
     ],
     "language": "python",
     "metadata": {},
     "outputs": [
      {
       "metadata": {},
       "output_type": "pyout",
       "prompt_number": 157,
       "text": [
        "suppFcn (generic function with 1 method)"
       ]
      }
     ],
     "prompt_number": 157
    },
    {
     "cell_type": "code",
     "collapsed": false,
     "input": [
      "x = [0, 1]\n",
      "z, ustar = suppFcn(x);"
     ],
     "language": "python",
     "metadata": {},
     "outputs": [
      {
       "output_type": "stream",
       "stream": "stdout",
       "text": [
        "Warning: numerical instability (primal simplex, phase II)\n",
        "Warning: numerical instability (primal simplex, phase I)\n",
        "z = 5.0\n"
       ]
      },
      {
       "output_type": "stream",
       "stream": "stdout",
       "text": [
        "9.547775193996165e-18  .11889900208676156\t.023645659427726003\t.9926247579488436\n",
        "\n",
        "4.973799150320701e-14  -.02823051992330516\t-.004395617857662836\t-.9995917748203561\n",
        "\n",
        "0.0  .11406842696480693\t.09415766956840996\t-.9890008732206563\n",
        "\n",
        "2.203277221865451e-12  -.11342610771250704\t-.09778554933854561\t.988722663050539\n",
        "\n",
        "-9.334755191048316e-13  -.08098569557637109\t.06893027288302071\t-.9943288865321592\n",
        "\n",
        "5.290543030536849e-17  -.11279780260243674\t-.052122520997129856\t.9922499173761445\n",
        "\n",
        "6.806208511687793e-42  -.06969515237183542\t.028474966142599156\t.9971618534816926\n",
        "\n",
        "9.388914808403186e-50  -.003026220975966492\t-.06860204219842657\t.9976395149515731\n",
        "\n",
        "0.0  .012961803185247351\t-.7432413859619563\t-.6688977753375602\n",
        "\n",
        "2.3602192850741527e-18  .07240798346857424\t.0943189258398322\t.9929053450145362\n",
        "\n",
        "3.8817341478557214e-37  -.04697832937668976\t-.06518098303874446\t.996767011903523\n",
        "\n",
        "1.2025935802739696e-12  .0023524019695926913\t-.0908891547825452\t-.9958582367726283\n",
        "\n",
        "4.423809454506554e-12  -.04267888603307631\t.14588814543290915\t.9883800694617036\n",
        "\n",
        "3.776607972257047e-89  -.02202122475082346\t.04547841658259467\t.9987225737338742\n",
        "\n",
        "3.161915174132446e-13  -.06956204852017749\t-.02535850182863999\t-.9972552671160396\n",
        "\n",
        "2.6701898360624415e-57  .0009553669022867193\t-.06370198557760542\t.9979685086752751\n",
        "\n",
        "2.3389067667060184e-53  .014158753659698537\t-.06462940042075108\t.9978088846548011\n",
        "\n",
        "0.0  .022117257673276887\t.7518114220241203\t.6590071415600016\n",
        "\n",
        "9.672262990534364e-13  .09078551667842676\t-.07116792468788152\t-.9933242755802615\n",
        "\n",
        "2.8821389719269064e-12  .14642979624635047\t-.03271284119193305\t-.9886800214388899\n",
        "\n",
        "-3.019806626980426e-13  .0026189855547679866\t.022908896360825364\t-.9997341263466968\n",
        "\n",
        "3.9071665033542695e-14  -.09819213481720468\t.09756265349308088\t.9903735826966655\n",
        "\n",
        "0.0  -.12391813014808649\t-.0026770469361847345\t-.9922888341810077\n",
        "\n"
       ]
      }
     ],
     "prompt_number": 127
    },
    {
     "cell_type": "code",
     "collapsed": false,
     "input": [
      "norm(ustar[:]), varisk(norm(x), eps_), cvar(norm(x), eps_)"
     ],
     "language": "python",
     "metadata": {},
     "outputs": [
      {
       "metadata": {},
       "output_type": "pyout",
       "prompt_number": 128,
       "text": [
        "(1.4021428876612472,0.8416212335729144,1.3998096020390411)"
       ]
      }
     ],
     "prompt_number": 128
    },
    {
     "cell_type": "code",
     "collapsed": false,
     "input": [
      "## each of the O(N) maximizations\n",
      "data = randn(5000, 2)\n",
      "eps_ = .2\n",
      "function separate(us, vs, z, CASE)\n",
      "    m = Model()\n",
      "    @defVar(m, a[1:2])\n",
      "    @defVar(m, b)\n",
      "\n",
      "    #define the RHS\n",
      "    N = size(data, 1)\n",
      "    @defVar(m, t[1:N] >= 0)\n",
      "    for i = 1:N\n",
      "        @addConstraint(m, t[i] >= z*(dot(a, vec(data[i, :])) - b)/N)\n",
      "    end\n",
      "\n",
      "    #a,b in a box\n",
      "    @defVar(m, abs_a[1:2]>=0)\n",
      "    @defVar(m, abs_b >=0)\n",
      "    @addConstraint(m, abs_b >= b)\n",
      "    @addConstraint(m, abs_b >= -b)\n",
      "    for i = 1:2\n",
      "        @addConstraint(m, abs_a[i] >=  a[i])\n",
      "        @addConstraint(m, abs_a[i] >= -a[i])\n",
      "    end\n",
      "   @addConstraint(m, abs_b + abs_a[1] + abs_a[2] <= 1)\n",
      "    \n",
      "    if CASE == :1\n",
      "        @addConstraint(m, dot(a, vec(vs)) - (z-1) * b >= 0)\n",
      "        @addConstraint(m, dot(a, vec(us)) - b >= 0)\n",
      "        @setObjective(m, :Max, dot(a, vec(vs)) - (z-1)*b + dot(a, vec(us)) \n",
      "                                - b - sum{t[i], i=1:N})\n",
      "    elseif CASE == :2\n",
      "        @addConstraint(m, dot(a, vec(vs)) - (z-1) * b <= 0)\n",
      "        @addConstraint(m, dot(a, vec(us)) - b >= 0)\n",
      "        @setObjective(m, :Max, dot(a, vec(us)) - b - sum{t[i], i=1:N})\n",
      "    elseif CASE == :3\n",
      "        @addConstraint(m, dot(a, vec(vs)) - (z-1) * b >= 0)\n",
      "        @addConstraint(m, dot(a, vec(us)) - b <= 0)\n",
      "        @setObjective(m, :Max, dot(a, vec(vs)) - (z-1)*b - sum{t[i], i=1:N})\n",
      "    end\n",
      "    status = solve(m)\n",
      "    status != :Optimal && error(\"Case $CASE optimization failed with status $status\")\n",
      "\n",
      "    return (getObjectiveValue(m), getValue(a), getValue(b))\n",
      "end\n",
      "\n",
      "function separate(us, vs, z; TOL=1e-8)\n",
      "    #Right now solve all of them an return worst one\n",
      "    obj1, astar1, bstar1 = separate(us, vs, z, :1)\n",
      "    obj2, astar2, bstar2 = separate(us, vs, z, :2)\n",
      "    obj3, astar3, bstar3 = separate(us, vs, z, :3)\n",
      "    \n",
      "    if obj1 >= max(obj1, obj2, obj3) - TOL\n",
      "        return obj1, astar1, bstar1\n",
      "    elseif obj2 >= max(obj1, obj2, obj3) - TOL\n",
      "        return obj2, astar2, bstar2\n",
      "    else\n",
      "        return obj3, astar3, bstar3\n",
      "    end\n",
      "end\n"
     ],
     "language": "python",
     "metadata": {},
     "outputs": [
      {
       "metadata": {},
       "output_type": "pyout",
       "prompt_number": 88,
       "text": [
        "separate (generic function with 2 methods)"
       ]
      }
     ],
     "prompt_number": 88
    },
    {
     "cell_type": "code",
     "collapsed": false,
     "input": [
      "function suppFcn2(xs, data, Gamma; bound=1e6, TOL=1e-6)\n",
      "    m = Model(solver=GurobiSolver(OutputFlag=0))\n",
      "    @defVar(m, -bound <= us[1:2] <= bound)\n",
      "    @defVar(m, vs[1:2])\n",
      "    @defVar(m, 1 <= z <= 1/eps_)\n",
      "\n",
      "    @setObjective(m, Max, dot(xs, us))\n",
      "    println(\"Solving 1\")\n",
      "    status = solve(m)\n",
      "    println(status)\n",
      "    uvals = getValue(us)\n",
      "    vvals = getValue(vs)\n",
      "    zval = getValue(z)\n",
      "    iter = 1\n",
      "    \n",
      "    obj, astar, bstar = separate(uvals[:], vvals[:], zval)\n",
      "    println(obj, \"  \", astar[:]', \"  \", bstar)\n",
      "\n",
      "    while obj > Gamma + TOL\n",
      "        t1 = max(dot(astar[:], vvals) - bstar * zval + bstar, 0)\n",
      "        t2 = max(dot(astar[:], uvals) - bstar, 0)\n",
      "        \n",
      "        @defVar(m, t[1:2] >= 0)\n",
      "        @addConstraint(m, t[1] >= dot(astar[:], vs) - bstar * z + bstar)\n",
      "        @addConstraint(m, t[2] >= dot(astar[:], us) - bstar)\n",
      "        @addConstraint(m, t[1] + t[2] <= mean(max(data * astar[:] - bstar, 0))*z + Gamma)\n",
      "        \n",
      "        status = solve(m)\n",
      "        status != :Optimal && error(\"Inner Solver Failed status $status\")\n",
      "        uvals = getValue(us)\n",
      "        vvals = getValue(vs)\n",
      "        zval = getValue(z)\n",
      "        obj, astar, bstar = separate(uvals[:], vvals[:], zval)\n",
      "\n",
      "        println(iter, \"  \", obj - Gamma, \"  \", astar[:]', \"  \", bstar)\n",
      "        iter +=1\n",
      "    end\n",
      "    getObjectiveValue(m), getValue(us)    \n",
      "end\n",
      "    \n",
      "    "
     ],
     "language": "python",
     "metadata": {},
     "outputs": [
      {
       "metadata": {},
       "output_type": "pyout",
       "prompt_number": 81,
       "text": [
        "suppFcn2 (generic function with 1 method)"
       ]
      }
     ],
     "prompt_number": 81
    },
    {
     "cell_type": "code",
     "collapsed": false,
     "input": [
      "xs = [1, 1]\n",
      "zstar, ustar = suppFcn2(xs, data, 1e-6)\n",
      "norm(ustar[:]), varisk(norm(xs), eps_), cvar(norm(xs), eps_)"
     ],
     "language": "python",
     "metadata": {},
     "outputs": [
      {
       "output_type": "stream",
       "stream": "stdout",
       "text": [
        "Solving 1\n"
       ]
      },
      {
       "output_type": "stream",
       "stream": "stdout",
       "text": [
        "Optimal\n",
        "999999"
       ]
      },
      {
       "output_type": "stream",
       "stream": "stdout",
       "text": [
        ".7160847206  .48899180443878104\t.511008195561219\n",
        "  -0.0\n",
        "1"
       ]
      },
      {
       "output_type": "stream",
       "stream": "stdout",
       "text": [
        "  999997.9876266235  1\t-1275863071665463e-47\n",
        "  -0.0\n",
        "2"
       ]
      },
      {
       "output_type": "stream",
       "stream": "stdout",
       "text": [
        "  0.7869636186843876  .48475652568669647\t.022421604070357058\n",
        "  -0.49282187024294655\n",
        "3"
       ]
      },
      {
       "output_type": "stream",
       "stream": "stdout",
       "text": [
        "  2.967712387656167  -3851859888774472e-48\t1\n",
        "  -0.0\n",
        "4"
       ]
      },
      {
       "output_type": "stream",
       "stream": "stdout",
       "text": [
        "  2.0691517848634087  -1\t0\n",
        "  3.851859888774472e-34\n",
        "5"
       ]
      },
      {
       "output_type": "stream",
       "stream": "stdout",
       "text": [
        "  0.3874796255620162  .5183411724585062\t.15377961470683302\n",
        "  0.32787921283466076\n",
        "6"
       ]
      },
      {
       "output_type": "stream",
       "stream": "stdout",
       "text": [
        "  0.7457960589648027  0\t.4889055988671424\n",
        "  -0.5110944011328576\n",
        "7"
       ]
      },
      {
       "output_type": "stream",
       "stream": "stdout",
       "text": [
        "  2.1661921692845105  0\t-1\n",
        "  1.925929944387236e-33\n",
        "8"
       ]
      },
      {
       "output_type": "stream",
       "stream": "stdout",
       "text": [
        "  0.3447888445655339  .18526074260732883\t.4870918988190855\n",
        "  0.32764735857358573\n",
        "9"
       ]
      },
      {
       "output_type": "stream",
       "stream": "stdout",
       "text": [
        "  0.1486112921577196  .20540474582680243\t.214498842722419\n",
        "  -0.5800964114507786\n",
        "10"
       ]
      },
      {
       "output_type": "stream",
       "stream": "stdout",
       "text": [
        "  0.13632857676066637  -.18181748062445213\t.24443806484647326\n",
        "  -0.5737444545290746\n",
        "11"
       ]
      },
      {
       "output_type": "stream",
       "stream": "stdout",
       "text": [
        "  0.09138071006953405  .3360940831954977\t.30149338629001987\n",
        "  0.3624125305144824\n",
        "12"
       ]
      },
      {
       "output_type": "stream",
       "stream": "stdout",
       "text": [
        "  0.028739066896685955  .23083791021004166\t.3883196031322886\n",
        "  0.38084248665766973\n",
        "13"
       ]
      },
      {
       "output_type": "stream",
       "stream": "stdout",
       "text": [
        "  0.0178711085590672  0\t.26680220710544134\n",
        "  -0.7331977928945587\n",
        "14"
       ]
      },
      {
       "output_type": "stream",
       "stream": "stdout",
       "text": [
        "  0.017105526252321403  .26691869028238013\t-41394536933749744e-48\n",
        "  -0.7330813097176199\n",
        "15"
       ]
      },
      {
       "output_type": "stream",
       "stream": "stdout",
       "text": [
        "  0.007650561580121369  .2807794174953773\t.33849953596532933\n",
        "  0.3807210465392933\n",
        "16"
       ]
      },
      {
       "output_type": "stream",
       "stream": "stdout",
       "text": [
        "  0.0022945506101448585  .30841574620072554\t.31185862836369166\n",
        "  0.37972562543558275\n",
        "17"
       ]
      },
      {
       "output_type": "stream",
       "stream": "stdout",
       "text": [
        "  0.001826903777649818  .15995955135617917\t.13463994244265737\n",
        "  -0.7054005062011635\n",
        "18"
       ]
      },
      {
       "output_type": "stream",
       "stream": "stdout",
       "text": [
        "  0.001260258786165398  .3311679710547133\t.289505869079232\n",
        "  0.37932615986605467\n",
        "19"
       ]
      },
      {
       "output_type": "stream",
       "stream": "stdout",
       "text": [
        "  0.0009947697001310024  -.05032707973238923\t.20702713543707468\n",
        "  -0.7426457848305361\n",
        "20"
       ]
      },
      {
       "output_type": "stream",
       "stream": "stdout",
       "text": [
        "  0.0003455274939147833  .31933525330770296\t.3008733320361614\n",
        "  0.3797914146561356\n",
        "21"
       ]
      },
      {
       "output_type": "stream",
       "stream": "stdout",
       "text": [
        "  9.391106487058421e-5  .31446759407823893\t.306777307968129\n",
        "  0.378755097953632\n",
        "22"
       ]
      },
      {
       "output_type": "stream",
       "stream": "stdout",
       "text": [
        "  7.96079554899837e-5  .1607323585685717\t.1125493996530851\n",
        "  -0.7267182417783432\n",
        "23"
       ]
      },
      {
       "output_type": "stream",
       "stream": "stdout",
       "text": [
        "  0.40466763444808745  -.18162603843980515\t-.501690012274137\n",
        "  -0.31668394928605786\n",
        "24"
       ]
      },
      {
       "output_type": "stream",
       "stream": "stdout",
       "text": [
        "  0.0031363539136420237  .08371016815757425\t-.20568027260984115\n",
        "  -0.7106095592325846\n",
        "25"
       ]
      },
      {
       "output_type": "stream",
       "stream": "stdout",
       "text": [
        "  0.09284954226520128  -.3431095161850282\t-.2940224113326067\n",
        "  -0.36286807248236513\n",
        "26"
       ]
      },
      {
       "output_type": "stream",
       "stream": "stdout",
       "text": [
        "  2.584681967313196e-5  .3106520603441316\t.30947229481680427\n",
        "  0.3798756448390641\n",
        "27"
       ]
      },
      {
       "output_type": "stream",
       "stream": "stdout",
       "text": [
        "  7.339483277164384e-6  .30944749837571883\t.310501240156507\n",
        "  0.3800512614677741\n",
        "28"
       ]
      },
      {
       "output_type": "stream",
       "stream": "stdout",
       "text": [
        "  2.121889844637238e-6  .30997678144487806\t.30993139251800045\n",
        "  0.38009182603712144\n",
        "29"
       ]
      },
      {
       "output_type": "stream",
       "stream": "stdout",
       "text": [
        "  5.786311496346351e-7  .309802818802454\t.310199306745426\n",
        "  0.37999787445211997\n"
       ]
      },
      {
       "metadata": {},
       "output_type": "pyout",
       "prompt_number": 90,
       "text": [
        "(1.3937005172932821,1.1902321628999901,1.979629723943697)"
       ]
      }
     ],
     "prompt_number": 90
    },
    {
     "cell_type": "code",
     "collapsed": false,
     "input": [
      "using Gurobi\n"
     ],
     "language": "python",
     "metadata": {},
     "outputs": [],
     "prompt_number": 172
    },
    {
     "cell_type": "code",
     "collapsed": false,
     "input": [],
     "language": "python",
     "metadata": {},
     "outputs": []
    }
   ],
   "metadata": {}
  }
 ]
}