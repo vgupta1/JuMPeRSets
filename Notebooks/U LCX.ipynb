{
 "metadata": {
  "language": "Julia",
  "name": ""
 },
 "nbformat": 3,
 "nbformat_minor": 0,
 "worksheets": [
  {
   "cells": [
    {
     "cell_type": "code",
     "collapsed": false,
     "input": [
      "include(\"../Tests/LCXTests.jl\")"
     ],
     "language": "python",
     "metadata": {},
     "outputs": [
      {
       "output_type": "stream",
       "stream": "stderr",
       "text": [
        "Warning: replacing module LCXTest\n"
       ]
      }
     ],
     "prompt_number": 9
    },
    {
     "cell_type": "code",
     "collapsed": false,
     "input": [
      "#gen some a, b's on the sphere\n",
      "numSamples = 1000\n",
      "ab_samples = randn(numSamples, 3)\n",
      "for ix = 1:numSamples\n",
      "    ab_samples[ix, :] /= norm(ab_samples[ix, :])\n",
      "end"
     ],
     "language": "python",
     "metadata": {},
     "outputs": [],
     "prompt_number": 121
    },
    {
     "cell_type": "code",
     "collapsed": false,
     "input": [
      "data = [randn(10, 1) rand(10, 1)];"
     ],
     "language": "python",
     "metadata": {},
     "outputs": [],
     "prompt_number": 19
    },
    {
     "cell_type": "code",
     "collapsed": false,
     "input": [
      "function longway(zetas, zetahats)\n",
      "    Gamma = 0.\n",
      "    for b in zetas\n",
      "        emp = max(0, zetahats - b)\n",
      "        act = max(0, zetas -b)\n",
      "        Gamma = max(Gamma, mean(act) - mean(emp))\n",
      "    end\n",
      "    Gamma\n",
      "end\n",
      "\n",
      "#Returns indx of last instance of val, assumes sorted\n",
      "#0 if not a member\n",
      "function findlast_sort(val::Float64, \n",
      "                    vector::Vector{Float64}; \n",
      "                    TOL=1e-10, start=1)\n",
      "    i = 1::Int64\n",
      "    for i = int(start):length(vector)\n",
      "        if abs(val - vector[i]) > TOL\n",
      "            break\n",
      "        end\n",
      "    end\n",
      "    i-1\n",
      "end\n",
      "\n",
      "function singlepass(zetas::Vector{Float64}, zetahats::Vector{Float64})\n",
      "    sort!(zetas)  #This should be done externally\n",
      "    sort!(zetahats)\n",
      "\n",
      "    vstar = mean(zetas) - zetas[1]  #externally\n",
      "    vb    = mean(zetahats) - zetas[1]\n",
      "\n",
      "    Gamma::Float64 = vstar - vb\n",
      "    const N::Int64 = length(zetas)\n",
      "    pbar::Float64  = 1.0 \n",
      "    hat_indx = 1::Int64\n",
      "    hat_indx_ = 0::Int64\n",
      "    \n",
      "    for k = 2:length(zetas)\n",
      "        vstar += (zetas[k-1] - zetas[k]) * (N-k+1)/N\n",
      "        hat_indx = findlast_sort(zetas[k-1], zetahats, \n",
      "                                start=hat_indx_+1)\n",
      "        pbar -=  (hat_indx-hat_indx_)/N\n",
      "        hat_indx_ = hat_indx\n",
      "        vb  += (zetas[k-1] - zetas[k]) * pbar\n",
      "        println(\" k $k \\t Gamma $(vstar -vb) \\t pbar $pbar\")\n",
      "        Gamma = max(Gamma, vstar - vb)\n",
      "    end\n",
      "    Gamma\n",
      "end"
     ],
     "language": "python",
     "metadata": {},
     "outputs": [
      {
       "metadata": {},
       "output_type": "pyout",
       "prompt_number": 71,
       "text": [
        "singlepass (generic function with 2 methods)"
       ]
      }
     ],
     "prompt_number": 71
    },
    {
     "cell_type": "code",
     "collapsed": false,
     "input": [
      "[sort!(zetas) sort!(zetahats)];\n",
      "[zetas zetahats]\n",
      "max(zetas)\n",
      "sum(abs(zetahats - max(zetas)) .< 1e-10)"
     ],
     "language": "python",
     "metadata": {},
     "outputs": [
      {
       "metadata": {},
       "output_type": "pyout",
       "prompt_number": 80,
       "text": [
        "1"
       ]
      }
     ],
     "prompt_number": 80
    },
    {
     "cell_type": "code",
     "collapsed": false,
     "input": [
      "zetas = randn(100);\n",
      "zetahats = zetas[rand(1:100, 100)];\n",
      "println(\"Longway\\t\", longway(zetas, zetahats))"
     ],
     "language": "python",
     "metadata": {},
     "outputs": [
      {
       "output_type": "stream",
       "stream": "stdout",
       "text": [
        "Longway\t0."
       ]
      },
      {
       "output_type": "stream",
       "stream": "stdout",
       "text": [
        "06429337894191689\n"
       ]
      },
      {
       "metadata": {},
       "output_type": "pyout",
       "prompt_number": 75,
       "text": [
        "100x2 Array{Float64,2}:\n",
        "  0.0830872  -0.63003  \n",
        " -0.642049   -1.12895  \n",
        "  0.446756    0.584877 \n",
        " -0.170871    0.69228  \n",
        " -1.35589    -0.371947 \n",
        "  0.493942    2.2247   \n",
        "  0.816073   -0.069947 \n",
        "  0.0414261  -1.31153  \n",
        "  0.499606    1.14021  \n",
        " -1.22605    -0.0115762\n",
        "  1.65975    -0.256468 \n",
        "  0.231422    0.446756 \n",
        "  1.24114     1.05659  \n",
        "  \u22ee                    \n",
        " -0.868779    0.750077 \n",
        "  0.861687   -0.655772 \n",
        "  1.0658     -1.68114  \n",
        "  1.72942     0.0830872\n",
        "  0.742583   -1.22924  \n",
        "  0.16531     1.22762  \n",
        "  0.471634   -0.188559 \n",
        " -1.37135    -0.0115762\n",
        "  0.69228     0.8293   \n",
        "  0.750077    1.0874   \n",
        "  0.905785   -0.371947 \n",
        " -1.31153     0.750077 "
       ]
      }
     ],
     "prompt_number": 75
    },
    {
     "cell_type": "code",
     "collapsed": false,
     "input": [
      "singlepass(zetas, zetahats)"
     ],
     "language": "python",
     "metadata": {},
     "outputs": [
      {
       "output_type": "stream",
       "stream": "stdout",
       "text": [
        " k 2 \t Gamma 0.057512201420249376 \t pbar 0.99\n"
       ]
      },
      {
       "output_type": "stream",
       "stream": "stdout",
       "text": [
        " k 3 \t Gamma 0.06090903648791479 \t pbar 0.99\n",
        " k 4 \t Gamma 0.06130989016543764 \t pbar 0.99\n",
        " k 5 \t Gamma 0.061512147319836785 \t pbar 0.98\n",
        " k 6 \t Gamma 0.06409380944635723 \t pbar 0.96\n",
        " k 7 \t Gamma 0.06409380944635723 \t pbar 0.94\n",
        " k 8 \t Gamma 0.06429337894191689 \t pbar 0.94\n",
        " k 9 \t Gamma 0.06429337894191689 \t pbar 0.9199999999999999\n",
        " k 10 \t Gamma 0.0641387615983422 \t pbar 0.8999999999999999\n",
        " k 11 \t Gamma 0.06369518372854377 \t pbar 0.8899999999999999\n",
        " k 12 \t Gamma 0.06320645045260798 \t pbar 0.8699999999999999\n",
        " k 13 \t Gamma 0.06204930387369623 \t pbar 0.8599999999999999\n",
        " k 14 \t Gamma 0.061985491055690956 \t pbar 0.8499999999999999\n",
        " k 15 \t Gamma 0.06101453788322586 \t pbar 0.8499999999999999\n",
        " k 16 \t Gamma 0.06095621127451478 \t pbar 0.8399999999999999\n",
        " k 17 \t Gamma 0.059211653706073175 \t pbar 0.8299999999999998\n",
        " k 18 \t Gamma 0.05887602689968907 \t pbar 0.8199999999999998\n",
        " k 19 \t Gamma 0.058631936046140476 \t pbar 0.7899999999999998\n",
        " k 20 \t Gamma 0.05786826361601016 \t pbar 0.7899999999999998\n",
        " k 21 \t Gamma 0.05668385721480029 \t pbar 0.7799999999999998\n",
        " k 22 \t Gamma 0.056644542001631604 \t pbar 0.7699999999999998\n",
        " k 23 \t Gamma 0.05574066721977611 \t pbar 0.7699999999999998\n",
        " k 24 \t Gamma 0.05574066721977611 \t pbar 0.7699999999999998\n",
        " k 25 \t Gamma 0.055235576047101054 \t pbar 0.7499999999999998\n",
        " k 26 \t Gamma 0.055098345445751984 \t pbar 0.7399999999999998\n",
        " k 27 \t Gamma 0.054978156715747795 \t pbar 0.7299999999999998\n",
        " k 28 \t Gamma 0.05432486803018799 \t pbar 0.7099999999999997\n",
        " k 29 \t Gamma 0.054166128246829426 \t pbar 0.7099999999999997\n",
        " k 30 \t Gamma 0.054166128246829426 \t pbar 0.7099999999999997\n",
        " k 31 \t Gamma 0.054166128246829426 \t pbar 0.6999999999999997\n",
        " k 32 \t Gamma 0.05383535064840894 \t pbar 0.6799999999999997\n",
        " k 33 \t Gamma 0.05383535064840894 \t pbar 0.6799999999999997\n",
        " k 34 \t Gamma 0.05383535064840894 \t pbar 0.6699999999999997\n",
        " k 35 \t Gamma 0.0540797621109016 \t pbar 0.6699999999999997\n",
        " k 36 \t Gamma 0.05439093776708348 \t pbar 0.6699999999999997\n",
        " k 37 \t Gamma 0.05439223312021135 \t pbar 0.6599999999999997\n",
        " k 38 \t Gamma 0.05551712891223848 \t pbar 0.6599999999999997\n",
        " k 39 \t Gamma 0.05551712891223848 \t pbar 0.6199999999999997\n",
        " k 40 \t Gamma 0.055082017541490336 \t pbar 0.5999999999999996\n",
        " k 41 \t Gamma 0.055082017541490336 \t pbar 0.5999999999999996\n",
        " k 42 \t Gamma 0.05497957923555241 \t pbar 0.5799999999999996\n",
        " k 43 \t Gamma 0.05497957923555241 \t pbar 0.5799999999999996\n",
        " k 44 \t Gamma 0.05499368339893074 \t pbar 0.5799999999999996\n",
        " k 45 \t Gamma 0.05481679677554829 \t pbar 0.5499999999999996\n",
        " k 46 \t Gamma 0.05380755862322345 \t pbar 0.5399999999999996\n",
        " k 47 \t Gamma 0.052640142879409546 \t pbar 0.5199999999999996\n",
        " k 48 \t Gamma 0.05105007598870548 \t pbar 0.49999999999999956\n",
        " k 49 \t Gamma 0.05094625324266655 \t pbar 0.49999999999999956\n",
        " k 50 \t Gamma 0.049852152300290165 \t pbar 0.47999999999999954\n",
        " k 51 \t Gamma 0.04738548248360536 \t pbar 0.46999999999999953\n",
        " k 52 \t Gamma 0.04474096549615514 \t pbar 0.4499999999999995\n",
        " k 53 \t Gamma 0.0435647223748305 \t pbar 0.4499999999999995\n",
        " k 54 \t Gamma 0.03935694737423495 \t pbar 0.4299999999999995\n",
        " k 55 \t Gamma 0.03651971216310623 \t pbar 0.4199999999999995\n",
        " k 56 \t Gamma 0.0352758067635941 \t pbar 0.39999999999999947\n",
        " k 57 \t Gamma 0.03438346552776314 \t pbar 0.39999999999999947\n",
        " k 58 \t Gamma 0.03415694345491868 \t pbar 0.38999999999999946\n",
        " k 59 \t Gamma 0.0316467661949566 \t pbar 0.37999999999999945\n",
        " k 60 \t Gamma 0.03097124861499495 \t pbar 0.37999999999999945\n",
        " k 61 \t Gamma 0.029631897066548146 \t pbar 0.35999999999999943\n",
        " k 62 \t Gamma 0.029247008211198577 \t pbar 0.3399999999999994\n",
        " k 63 \t Gamma 0.02621496152024108 \t pbar 0.3299999999999994\n",
        " k 64 \t Gamma 0.02599173820231851 \t pbar 0.3299999999999994\n",
        " k 65 \t Gamma 0.023979633517707988 \t pbar 0.3199999999999994\n",
        " k 66 \t Gamma 0.023754820165814733 \t pbar 0.3199999999999994\n",
        " k 67 \t Gamma 0.02200600756748919 \t pbar 0.28999999999999937\n",
        " k 68 \t Gamma 0.020144794727952775 \t pbar 0.26999999999999935\n",
        " k 69 \t Gamma 0.01921890924058016 \t pbar 0.24999999999999936\n",
        " k 70 \t Gamma 0.01912555471037891 \t pbar 0.23999999999999935\n",
        " k 71 \t Gamma 0.019038002619499353 \t pbar 0.23999999999999935\n",
        " k 72 \t Gamma 0.01896406290920387 \t pbar 0.21999999999999936\n",
        " k 73 \t Gamma 0.017555280812271826 \t pbar 0.21999999999999936\n",
        " k 74 \t Gamma 0.01730235550896002 \t pbar 0.21999999999999936\n",
        " k 75 \t Gamma 0.015538442013789677 \t pbar 0.21999999999999936\n",
        " k 76 \t Gamma 0.013709850917230967 \t pbar 0.20999999999999935\n",
        " k 77 \t Gamma 0.008455348105329413 \t pbar 0.18999999999999936\n",
        " k 78 \t Gamma 0.00826140350400252 \t pbar 0.16999999999999937\n",
        " k 79 \t Gamma 0.00804882985126959 \t pbar 0.16999999999999937\n",
        " k 80 \t Gamma 0.007962735445492253 \t pbar 0.15999999999999936\n",
        " k 81 \t Gamma 0.007098530864077482 \t pbar 0.15999999999999936\n",
        " k 82 \t Gamma 0.006389215287654057 \t pbar 0.14999999999999936\n",
        " k 83 \t Gamma 0.005616826317915366 \t pbar 0.14999999999999936\n",
        " k 84 \t Gamma 0.005430232854459718 \t pbar 0.14999999999999936\n",
        " k 85 \t Gamma 0.0028174744767233556 \t pbar 0.12999999999999937\n",
        " k 86 \t Gamma 0.002811031669197682 \t pbar 0.12999999999999937\n",
        " k 87 \t Gamma 0.002405573786928579 \t pbar 0.10999999999999936\n",
        " k 88 \t Gamma 0.001229928504883418 \t pbar 0.10999999999999936\n",
        " k 89 \t Gamma 0.0003441290172091008 \t pbar 0.09999999999999937\n",
        " k 90 \t Gamma 0.0003222993337057764 \t pbar 0.09999999999999937\n",
        " k 91 \t Gamma -0.00016937557382901147 \t pbar 0.08999999999999937\n",
        " k 92 \t Gamma -0.00016937557382903923 \t pbar 0.08999999999999937\n",
        " k 93 \t Gamma 0.0009242138609822509 \t pbar 0.08999999999999937\n",
        " k 94 \t Gamma 0.000641166497435907 \t pbar 0.05999999999999937\n",
        " k 95 \t Gamma 0.0006411664974358619 \t pbar 0.05999999999999937\n",
        " k 96 \t Gamma 0.0006966351230856451 \t pbar 0.05999999999999937\n",
        " k 97 \t Gamma -1.2125717097077882e-15 \t pbar 0.029999999999999374\n",
        " k 98 \t Gamma -1.2247147740396258e-15 \t pbar 0.029999999999999374\n",
        " k 99 \t Gamma -1.5230872119076366e-15 \t pbar 0.019999999999999372\n",
        " k 100 \t Gamma -1.6805133673525319e-15 \t pbar 0.009999999999999372\n"
       ]
      },
      {
       "metadata": {},
       "output_type": "pyout",
       "prompt_number": 76,
       "text": [
        "0.06429337894191689"
       ]
      }
     ],
     "prompt_number": 76
    },
    {
     "cell_type": "code",
     "collapsed": false,
     "input": [
      "[zetas zetahats]"
     ],
     "language": "python",
     "metadata": {},
     "outputs": [
      {
       "metadata": {},
       "output_type": "pyout",
       "prompt_number": 31,
       "text": [
        "10x2 Array{Float64,2}:\n",
        "  0.288499    0.485662 \n",
        "  0.460531   -2.53786  \n",
        "  0.0791611   1.01021  \n",
        "  0.485662    0.29845  \n",
        "  1.01021     0.29845  \n",
        " -1.96713     0.485662 \n",
        "  0.799214   -0.495268 \n",
        " -2.53786     0.0791611\n",
        " -0.495268    1.01021  \n",
        "  0.29845     0.0791611"
       ]
      }
     ],
     "prompt_number": 31
    },
    {
     "cell_type": "code",
     "collapsed": false,
     "input": [
      "LCXTest.calc_ab_thresh(data, .1, int(1e2), int(1e2))"
     ],
     "language": "python",
     "metadata": {},
     "outputs": [
      {
       "metadata": {},
       "output_type": "pyout",
       "prompt_number": 10,
       "text": [
        "0.05541848190745577"
       ]
      }
     ],
     "prompt_number": 10
    },
    {
     "cell_type": "code",
     "collapsed": false,
     "input": [
      "Gamma = 1e-10\n",
      "eps_ = .1\n",
      "xs = [1, 1]\n",
      "obj, us, vs, z = LCXTest.suppFcn2(xs, data, Gamma, eps_)"
     ],
     "language": "python",
     "metadata": {},
     "outputs": [
      {
       "ename": "LoadError",
       "evalue": "GurobiError(10006,\"Problem adding constraints\")\nat In[13]:4",
       "output_type": "pyerr",
       "traceback": [
        "GurobiError(10006,\"Problem adding constraints\")\nat In[13]:4",
        " in add_constr! at /Users/VGupta/.julia/v0.2/Gurobi/src/grb_constrs.jl:19",
        " in addconstr! at /Users/VGupta/.julia/v0.2/Gurobi/src/GurobiSolverInterface.jl:194",
        " in addConstraint at /Users/VGupta/.julia/v0.2/JuMP/src/JuMP.jl:385",
        " in suppFcn2 at /Users/VGupta/Documents/Research/DataDriven Uncertainty SEts/JuMPeRSets/Tests/LCXTests.jl:178"
       ]
      }
     ],
     "prompt_number": 13
    },
    {
     "cell_type": "code",
     "collapsed": false,
     "input": [
      "#Q:  Is bstar = a data pt?\n",
      "obj, astar, bstar = LCXTest.separate(us[:], vs[:], z, data)\n",
      "indx = indmin(abs(data * astar[:] - bstar))\n",
      "println(\"astar \\t\", astar[:]')\n",
      "println(\"bstar \\t\", bstar)\n",
      "\n",
      "println(\"mindiff to data?: \\t\", dot(data[indx, :], astar)-bstar )\n",
      "\n",
      "t = sort(data*astar[:])\n",
      "t = map( x->abs(x-bstar)<=1e-12, t)\n",
      "findin(t, true)\n"
     ],
     "language": "python",
     "metadata": {},
     "outputs": [
      {
       "output_type": "stream",
       "stream": "stdout",
       "text": [
        "astar \t0\t0\n"
       ]
      },
      {
       "output_type": "stream",
       "stream": "stdout",
       "text": [
        "\n",
        "bstar \t-1.0\n",
        "mindiff to data?: \t1.0\n"
       ]
      },
      {
       "metadata": {},
       "output_type": "pyout",
       "prompt_number": 53,
       "text": [
        "0-element Array{Int64,1}"
       ]
      }
     ],
     "prompt_number": 53
    },
    {
     "cell_type": "code",
     "collapsed": false,
     "input": [
      "rand!(zeros(5))"
     ],
     "language": "python",
     "metadata": {},
     "outputs": [
      {
       "metadata": {},
       "output_type": "pyout",
       "prompt_number": 21,
       "text": [
        "5-element Array{Float64,1}:\n",
        " 0.977816 \n",
        " 0.697647 \n",
        " 0.27878  \n",
        " 0.207599 \n",
        " 0.0690927"
       ]
      }
     ],
     "prompt_number": 21
    },
    {
     "cell_type": "code",
     "collapsed": false,
     "input": [
      "methods(rand!)"
     ],
     "language": "python",
     "metadata": {},
     "outputs": [
      {
       "metadata": {},
       "output_type": "pyout",
       "prompt_number": 22,
       "text": [
        "# 28 methods for generic function \"rand!\":\n",
        "rand!(A::Array{Float64,N}) at random.jl:134\n",
        "rand!(r::MersenneTwister,A::Array{Float64,N}) at random.jl:141\n",
        "rand!{T}(A::Array{T,N}) at random.jl:146\n",
        "rand!{T<:Integer}(r::Range1{T<:Integer},A::Array{T<:Integer,N}) at random.jl:190\n",
        "rand!(B::BitArray{N}) at random.jl:201\n",
        "rand!(s::FisherYatesSampler,a::AbstractArray{T,N},x::AbstractArray{T,N}) at /Users/VGupta/.julia/v0.2/StatsBase/src/sampling.jl:30\n",
        "rand!(d::Beta,A::Array{Float64,N}) at /Users/VGupta/.julia/v0.2/Distributions/src/univariate/beta.jl:48\n",
        "rand!(d::Chisq,A::Array{Float64,N}) at /Users/VGupta/.julia/v0.2/Distributions/src/univariate/chisq.jl:45\n",
        "rand!(d::Exponential,A::Array{Float64,N}) at /Users/VGupta/.julia/v0.2/Distributions/src/univariate/exponential.jl:54\n",
        "rand!(d::Gamma,A::Array{Float64,N}) at /Users/VGupta/.julia/v0.2/Distributions/src/univariate/gamma.jl:46\n",
        "rand!(d::InverseGamma,A::Array{Float64,N}) at /Users/VGupta/.julia/v0.2/Distributions/src/univariate/inversegamma.jl:67\n",
        "rand!{T<:FloatingPoint}(cf::NormalCanon,r::Array{T<:FloatingPoint,N}) at /Users/VGupta/.julia/v0.2/Distributions/src/univariate/normalcanon.jl:61\n",
        "rand!(d::Union(Dirichlet,DirichletCanon),x::Array{T,1}) at /Users/VGupta/.julia/v0.2/Distributions/src/multivariate/dirichlet.jl:174\n",
        "rand!(d::Union(Dirichlet,DirichletCanon),X::Array{T,2}) at /Users/VGupta/.julia/v0.2/Distributions/src/multivariate/dirichlet.jl:186\n",
        "rand!{T<:Real}(d::Multinomial,x::Array{T<:Real,1}) at /Users/VGupta/.julia/v0.2/Distributions/src/multivariate/multinomial.jl:163\n",
        "rand!{T<:Real}(d::Multinomial,x::Array{T<:Real,2}) at /Users/VGupta/.julia/v0.2/Distributions/src/multivariate/multinomial.jl:166\n",
        "rand!{T<:Real}(s::MultinomialSampler,x::Array{T<:Real,1}) at /Users/VGupta/.julia/v0.2/Distributions/src/multivariate/multinomial.jl:185\n",
        "rand!(d::GenericMvNormal{Cov<:AbstractPDMat},x::Array{Float64,1}) at /Users/VGupta/.julia/v0.2/Distributions/src/multivariate/mvnormal.jl:122\n",
        "rand!(d::GenericMvNormal{Cov<:AbstractPDMat},x::Array{Float64,2}) at /Users/VGupta/.julia/v0.2/Distributions/src/multivariate/mvnormal.jl:130\n",
        "rand!(d::GenericMvNormalCanon{Prec<:AbstractPDMat},x::Array{Float64,1}) at /Users/VGupta/.julia/v0.2/Distributions/src/multivariate/mvnormalcanon.jl:113\n",
        "rand!(d::GenericMvNormalCanon{Prec<:AbstractPDMat},x::Array{Float64,2}) at /Users/VGupta/.julia/v0.2/Distributions/src/multivariate/mvnormalcanon.jl:121\n",
        "rand!(d::GenericMvTDist{Cov<:AbstractPDMat},x::Array{Float64,1}) at /Users/VGupta/.julia/v0.2/Distributions/src/multivariate/mvtdist.jl:131\n",
        "rand!(d::GenericMvTDist{Cov<:AbstractPDMat},x::Array{Float64,2}) at /Users/VGupta/.julia/v0.2/Distributions/src/multivariate/mvtdist.jl:146\n",
        "rand!(IW::InverseWishart,X::Array{Array{Float64,2},N}) at /Users/VGupta/.julia/v0.2/Distributions/src/matrix/inversewishart.jl:69\n",
        "rand!(d::Distribution{Univariate,S<:ValueSupport},A::Array{T,N}) at /Users/VGupta/.julia/v0.2/Distributions/src/fallbacks.jl:190\n",
        "rand!(d::Distribution{Multivariate,S<:ValueSupport},X::Array{T,2}) at /Users/VGupta/.julia/v0.2/Distributions/src/fallbacks.jl:229\n",
        "rand!(d::Distribution{Matrixvariate,S<:ValueSupport},X::Array{Array{Float64,2},N}) at /Users/VGupta/.julia/v0.2/Distributions/src/fallbacks.jl:239\n",
        "rand!(s::FisherYatesSampler,a::AbstractArray{T,N},x::AbstractArray{T,N}) at /Users/VGupta/.julia/v0.2/Distributions/src/sample.jl:44"
       ]
      }
     ],
     "prompt_number": 22
    },
    {
     "cell_type": "code",
     "collapsed": false,
     "input": [
      "using Distributions"
     ],
     "language": "python",
     "metadata": {},
     "outputs": [],
     "prompt_number": 23
    },
    {
     "cell_type": "code",
     "collapsed": false,
     "input": [
      "rand!(DiscreteUniform(1, 10), zeros(5))"
     ],
     "language": "python",
     "metadata": {},
     "outputs": [
      {
       "metadata": {},
       "output_type": "pyout",
       "prompt_number": 25,
       "text": [
        "5-element Array{Float64,1}:\n",
        " 10.0\n",
        "  9.0\n",
        "  6.0\n",
        "  1.0\n",
        "  8.0"
       ]
      }
     ],
     "prompt_number": 25
    },
    {
     "cell_type": "code",
     "collapsed": false,
     "input": [],
     "language": "python",
     "metadata": {},
     "outputs": []
    }
   ],
   "metadata": {}
  }
 ]
}