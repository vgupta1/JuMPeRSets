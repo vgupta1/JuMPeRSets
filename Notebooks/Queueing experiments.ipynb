{
 "metadata": {
  "language": "Julia",
  "name": ""
 },
 "nbformat": 3,
 "nbformat_minor": 0,
 "worksheets": [
  {
   "cells": [
    {
     "cell_type": "code",
     "collapsed": false,
     "input": [
      "using Distributions"
     ],
     "language": "python",
     "metadata": {},
     "outputs": [
      {
       "output_type": "stream",
       "stream": "stderr",
       "text": [
        "Warning: could not import Base.foldl into NumericExtensions\n",
        "Warning: could not import Base.foldr into NumericExtensions\n",
        "Warning: could not import Base.sum! into NumericExtensions\n",
        "Warning: could not import Base.maximum! into NumericExtensions\n",
        "Warning: could not import Base.minimum! into NumericExtensions\n"
       ]
      }
     ],
     "prompt_number": 2
    },
    {
     "cell_type": "code",
     "collapsed": false,
     "input": [
      "#Parameter choosing\n",
      "x_dist = Gamma(2, 2)\n",
      "t_dist = Exponential(4.2)\n",
      "\n",
      "#Unbounded\n",
      "println(\"Service Mean, std\\t\", mean(x_dist), \"  \", std(x_dist))\n",
      "println(\"Arrival Mean, std\\t\", mean(t_dist), \"  \", std(t_dist))\n",
      "println(\"utilization\\t\", mean(x_dist)/ mean(t_dist))\n",
      "\n",
      "#Clipped at 5 stdevs\n",
      "x_data = min(rand(x_dist, int(1e7)), 5 * std(x_dist))\n",
      "println(\"XData\\t\", mean(x_data), \"  \", std(x_data)/sqrt(1e7) )\n",
      "\n",
      "t_data = min(rand(t_dist, int(1e7)), 5 * std(t_dist))\n",
      "println(\"XData\\t\", mean(t_data), \"  \", std(t_data)/sqrt(1e7) )\n",
      "println(\"utilization \\t\", mean(x_data)/ mean(t_data))\n"
     ],
     "language": "python",
     "metadata": {},
     "outputs": [
      {
       "output_type": "stream",
       "stream": "stdout",
       "text": [
        "Service Mean, std\t4"
       ]
      },
      {
       "output_type": "stream",
       "stream": "stdout",
       "text": [
        ".0  2.8284271247461903\n",
        "Arrival Mean, std\t4.2  4.2\n",
        "utilization\t0.9523809523809523\n",
        "XData\t"
       ]
      },
      {
       "output_type": "stream",
       "stream": "stdout",
       "text": [
        "3.985184087109094  0.0008727441607640372\n",
        "XData\t"
       ]
      },
      {
       "output_type": "stream",
       "stream": "stdout",
       "text": [
        "4.171347413823551  0.0012823163415085267\n",
        "utilization \t0.9553709369549213\n"
       ]
      }
     ],
     "prompt_number": 20
    },
    {
     "cell_type": "code",
     "collapsed": false,
     "input": [
      "max([1, 3, 2], 1)"
     ],
     "language": "python",
     "metadata": {},
     "outputs": [
      {
       "metadata": {},
       "output_type": "pyout",
       "prompt_number": 38,
       "text": [
        "3-element Array{Int64,1}:\n",
        " 1\n",
        " 3\n",
        " 2"
       ]
      }
     ],
     "prompt_number": 38
    },
    {
     "cell_type": "code",
     "collapsed": false,
     "input": [
      "#How many samples, roughly to ensure that kingman bound converges?\n",
      "mu_t = mean(t_data); mu_x = mean(x_data)\n",
      "sig_t = std(t_data); sig_x = std(x_data)\n",
      "(quantile(Normal(), 1-.1)* sqrt(sig_x^2 + sig_t^2)/ (mu_t - mu_x))^2\n",
      "# roughly 1K samples needed to see that it converges with prob 90%, 2K for 95%"
     ],
     "language": "python",
     "metadata": {},
     "outputs": [
      {
       "metadata": {},
       "output_type": "pyout",
       "prompt_number": 26,
       "text": [
        "1140.204375220528"
       ]
      }
     ],
     "prompt_number": 26
    },
    {
     "cell_type": "code",
     "collapsed": false,
     "input": [
      "include(\"queueing.jl\")"
     ],
     "language": "python",
     "metadata": {},
     "outputs": [
      {
       "output_type": "stream",
       "stream": "stderr",
       "text": [
        "Warning: replacing module QExp\n",
        "WARNING: Sigsample did not converge with hint.  Running bisection."
       ]
      },
      {
       "output_type": "stream",
       "stream": "stderr",
       "text": [
        "\n",
        "WARNING: "
       ]
      },
      {
       "output_type": "stream",
       "stream": "stderr",
       "text": [
        "Sigsample did not converge with hint.  Running bisection.\n",
        "WARNING: "
       ]
      },
      {
       "output_type": "stream",
       "stream": "stderr",
       "text": [
        "Sigsample did not converge with hint.  Running bisection.\n",
        "WARNING: "
       ]
      },
      {
       "output_type": "stream",
       "stream": "stderr",
       "text": [
        "Sigsample did not converge with hint.  Running bisection.\n"
       ]
      },
      {
       "ename": "LoadError",
       "evalue": "interrupt\nat /Users/VGupta/Documents/Research/DataDriven Uncertainty SEts/JuMPeRSets/queueing.jl:44\nat In[56]:1",
       "output_type": "pyerr",
       "traceback": [
        "interrupt\nat /Users/VGupta/Documents/Research/DataDriven Uncertainty SEts/JuMPeRSets/queueing.jl:44\nat In[56]:1"
       ]
      }
     ],
     "prompt_number": 56
    },
    {
     "cell_type": "code",
     "collapsed": false,
     "input": [
      "using PyPlot"
     ],
     "language": "python",
     "metadata": {},
     "outputs": [
      {
       "output_type": "stream",
       "stream": "stdout",
       "text": [
        "Loading help data...\n"
       ]
      },
      {
       "output_type": "stream",
       "stream": "stderr",
       "text": [
        "Warning: Possible conflict in library symbol dtrtri_\n",
        "Warning: Possible conflict in library symbol dgetri_\n",
        "Warning: Possible conflict in library symbol dgetrf_\n"
       ]
      }
     ],
     "prompt_number": 2
    },
    {
     "cell_type": "code",
     "collapsed": false,
     "input": [
      "plot(N_grid, fb_bounds, \"bs\")\n",
      "plot(N_grid, cs_bounds, \"rs\")"
     ],
     "language": "python",
     "metadata": {},
     "outputs": [
      {
       "metadata": {},
       "output_type": "display_data",
       "png": "[encoded data removed]",
       "text": [
        "Figure(PyObject <matplotlib.figure.Figure object at 0x11637d050>)"
       ]
      },
      {
       "metadata": {},
       "output_type": "pyout",
       "prompt_number": 5,
       "text": [
        "1-element Array{Any,1}:\n",
        " PyObject <matplotlib.lines.Line2D object at 0x1163a5510>"
       ]
      }
     ],
     "prompt_number": 5
    },
    {
     "cell_type": "code",
     "collapsed": false,
     "input": [
      "[fb_bounds cs_bounds]"
     ],
     "language": "python",
     "metadata": {},
     "outputs": [
      {
       "metadata": {},
       "output_type": "pyout",
       "prompt_number": 4,
       "text": [
        "4x2 Array{Float64,2}:\n",
        " Inf       Inf      \n",
        " Inf       Inf      \n",
        "  16.2631    7.81782\n",
        "  46.4387   12.971  "
       ]
      }
     ],
     "prompt_number": 4
    },
    {
     "cell_type": "code",
     "collapsed": false,
     "input": [],
     "language": "python",
     "metadata": {},
     "outputs": []
    }
   ],
   "metadata": {}
  }
 ]
}